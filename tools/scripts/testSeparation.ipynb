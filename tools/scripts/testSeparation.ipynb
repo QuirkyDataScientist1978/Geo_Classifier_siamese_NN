{
 "cells": [
  {
   "cell_type": "code",
   "execution_count": 26,
   "metadata": {
    "collapsed": true
   },
   "outputs": [],
   "source": [
    "import glob, random"
   ]
  },
  {
   "cell_type": "code",
   "execution_count": 27,
   "metadata": {
    "collapsed": true
   },
   "outputs": [],
   "source": [
    "blue = glob.glob('/mnt/dataWD2/virginia/TrainTestDatasets/RioDeJaneiro/crime/test/blue/*')"
   ]
  },
  {
   "cell_type": "code",
   "execution_count": 28,
   "metadata": {
    "collapsed": false
   },
   "outputs": [
    {
     "name": "stdout",
     "output_type": "stream",
     "text": [
      "9897\n"
     ]
    }
   ],
   "source": [
    "print (len(blue))"
   ]
  },
  {
   "cell_type": "code",
   "execution_count": 29,
   "metadata": {
    "collapsed": true
   },
   "outputs": [],
   "source": [
    "red = glob.glob('/mnt/dataWD2/virginia/TrainTestDatasets/RioDeJaneiro/crime/test/red/*')"
   ]
  },
  {
   "cell_type": "code",
   "execution_count": 30,
   "metadata": {
    "collapsed": false
   },
   "outputs": [
    {
     "name": "stdout",
     "output_type": "stream",
     "text": [
      "29320\n"
     ]
    }
   ],
   "source": [
    "print(len(red))"
   ]
  },
  {
   "cell_type": "code",
   "execution_count": 31,
   "metadata": {
    "collapsed": false
   },
   "outputs": [
    {
     "data": {
      "text/plain": [
       "2474"
      ]
     },
     "execution_count": 31,
     "metadata": {},
     "output_type": "execute_result"
    }
   ],
   "source": [
    "2474"
   ]
  },
  {
   "cell_type": "code",
   "execution_count": 32,
   "metadata": {
    "collapsed": false
   },
   "outputs": [],
   "source": [
    "def getName(red):\n",
    "    \n",
    "    ls = ['_'.join((name.split('/')[-1]).split('_')[:-1]) for name in red]\n",
    "    print(ls[0], len(ls))\n",
    "    \n",
    "    s = set(ls)\n",
    "    print(len(s))\n",
    "\n",
    "    images = random.sample(s, 2474)\n",
    "    return images\n",
    "        "
   ]
  },
  {
   "cell_type": "code",
   "execution_count": 33,
   "metadata": {
    "collapsed": false
   },
   "outputs": [
    {
     "name": "stdout",
     "output_type": "stream",
     "text": [
      "-22.952881315971_-43.19655010047251 29320\n",
      "7330\n"
     ]
    }
   ],
   "source": [
    "images = getName(red)"
   ]
  },
  {
   "cell_type": "code",
   "execution_count": 35,
   "metadata": {
    "collapsed": true
   },
   "outputs": [],
   "source": [
    "import shutil\n",
    "cardinal = ['_0.jpg','_90.jpg', '_180.jpg', '_270.jpg']"
   ]
  },
  {
   "cell_type": "code",
   "execution_count": 38,
   "metadata": {
    "collapsed": false
   },
   "outputs": [],
   "source": [
    "for name in images:\n",
    "    for c in cardinal:\n",
    "        shutil.copy2('/mnt/dataWD2/virginia/TrainTestDatasets/RioDeJaneiro/crime/test/red/'+name+c, '/mnt/dataWD2/virginia/TrainTestDatasets/RioDeJaneiro/new_test_red/')"
   ]
  },
  {
   "cell_type": "code",
   "execution_count": null,
   "metadata": {
    "collapsed": true
   },
   "outputs": [],
   "source": []
  }
 ],
 "metadata": {
  "anaconda-cloud": {},
  "kernelspec": {
   "display_name": "Python [default]",
   "language": "python",
   "name": "python3"
  },
  "language_info": {
   "codemirror_mode": {
    "name": "ipython",
    "version": 3
   },
   "file_extension": ".py",
   "mimetype": "text/x-python",
   "name": "python",
   "nbconvert_exporter": "python",
   "pygments_lexer": "ipython3",
   "version": "3.5.2"
  }
 },
 "nbformat": 4,
 "nbformat_minor": 1
}
